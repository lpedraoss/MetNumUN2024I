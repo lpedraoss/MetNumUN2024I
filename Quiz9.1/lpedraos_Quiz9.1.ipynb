{
  "nbformat": 4,
  "nbformat_minor": 0,
  "metadata": {
    "colab": {
      "provenance": [],
      "include_colab_link": true
    },
    "kernelspec": {
      "name": "python3",
      "display_name": "Python 3"
    }
  },
  "cells": [
    {
      "cell_type": "markdown",
      "metadata": {
        "id": "view-in-github",
        "colab_type": "text"
      },
      "source": [
        "<a href=\"https://colab.research.google.com/github/AlarconCruz/MetNumUN2024I/blob/main/Quiz9.1/lalarcon_Quiz9.1.ipynb\" target=\"_parent\"><img src=\"https://colab.research.google.com/assets/colab-badge.svg\" alt=\"Open In Colab\"/></a>"
      ]
    },
    {
      "cell_type": "markdown",
      "source": [
        "# 1. Solve the using *LUsolve* from sympy the   2 $\\times$ 2 system $Ax=b$, inside the function *LUsolve_2_by_2_lin_sys* with\n",
        "\n",
        "$$A = \\left[\n",
        "  \\begin{array}{cc}\n",
        "e & i\\\\\n",
        " \\sqrt{2}& \\pi\n",
        "\\end{array}\n",
        "\\right]\n",
        "$$\n",
        "\n",
        "$$b  = \\left[\n",
        "  \\begin{array}{c}\n",
        "\\sqrt{3} \\\\\n",
        "1\n",
        "\\end{array}\n",
        "\\right]\n",
        "$$"
      ],
      "metadata": {
        "id": "Voh5FtIzbcn3"
      }
    },
    {
      "cell_type": "code",
      "source": [
        "from sympy import *\n",
        "init_printing()\n",
        "\n",
        "def LUsolve_2_by_2_lin_sys():\n",
        "\n",
        "  A = Matrix([[E,I],\n",
        "            [sqrt(2),pi]])\n",
        "  b = Matrix(2,1,[sqrt(3),1])\n",
        "\n",
        "  x = A.LUsolve(b)\n",
        "\n",
        "  return x\n",
        "\n",
        "init_printing()\n",
        "result = LUsolve_2_by_2_lin_sys()\n",
        "result\n"
      ],
      "metadata": {
        "id": "2rXVy2w_Re5Z",
        "colab": {
          "base_uri": "https://localhost:8080/",
          "height": 102
        },
        "outputId": "63d5e240-be5d-4042-b3a0-96d1459a9460"
      },
      "execution_count": 1,
      "outputs": [
        {
          "output_type": "execute_result",
          "data": {
            "text/plain": [
              "⎡⎛       ⎛      -1    ⎞⎞    ⎤\n",
              "⎢⎜     ⅈ⋅⎝- √6⋅ℯ   + 1⎠⎟  -1⎥\n",
              "⎢⎜√3 - ────────────────⎟⋅ℯ  ⎥\n",
              "⎢⎜                 -1  ⎟    ⎥\n",
              "⎢⎝       π - √2⋅ⅈ⋅ℯ    ⎠    ⎥\n",
              "⎢                           ⎥\n",
              "⎢             -1            ⎥\n",
              "⎢       - √6⋅ℯ   + 1        ⎥\n",
              "⎢       ────────────        ⎥\n",
              "⎢                 -1        ⎥\n",
              "⎣       π - √2⋅ⅈ⋅ℯ          ⎦"
            ],
            "text/latex": "$\\displaystyle \\left[\\begin{matrix}\\frac{\\sqrt{3} - \\frac{i \\left(- \\frac{\\sqrt{6}}{e} + 1\\right)}{\\pi - \\frac{\\sqrt{2} i}{e}}}{e}\\\\\\frac{- \\frac{\\sqrt{6}}{e} + 1}{\\pi - \\frac{\\sqrt{2} i}{e}}\\end{matrix}\\right]$"
          },
          "metadata": {},
          "execution_count": 1
        }
      ]
    },
    {
      "cell_type": "markdown",
      "source": [
        "# 2. Solve the using *solve* from sympy the   2 $\\times$ 2 system $Ax=b$, inside the function *solve_2_by_2_lin_sys* with\n",
        "\n",
        "$$A = \\left[\n",
        "  \\begin{array}{cc}\n",
        "e & i\\\\\n",
        " \\sqrt{2}& \\pi\n",
        "\\end{array}\n",
        "\\right]\n",
        "$$\n",
        "\n",
        "$$b  = \\left[\n",
        "  \\begin{array}{c}\n",
        "\\sqrt{3} \\\\\n",
        "1\n",
        "\\end{array}\n",
        "\\right]\n",
        "$$"
      ],
      "metadata": {
        "id": "zTeu2Yzicj0m"
      }
    },
    {
      "cell_type": "code",
      "source": [
        "from sympy import *\n",
        "init_printing()\n",
        "\n",
        "def solve_2_by_2_lin_sys():\n",
        "\n",
        "  A = Matrix([[E,I],\n",
        "            [sqrt(2),pi]])\n",
        "  b = Matrix(2,1,[sqrt(3),1])\n",
        "\n",
        "  # Solve the linear system Ax = b using solve\n",
        "  # solve(A * Matrix([x, y]) - b, (x, y))\n",
        "  sol = solve(A * Matrix([Symbol('x'), Symbol('y')]) - b, (Symbol('x'), Symbol('y')))\n",
        "\n",
        "  return sol\n",
        "\n",
        "init_printing()\n",
        "result = solve_2_by_2_lin_sys()\n",
        "result"
      ],
      "metadata": {
        "id": "56WRBbMTReea",
        "colab": {
          "base_uri": "https://localhost:8080/",
          "height": 68
        },
        "outputId": "6085a5eb-c710-4ee8-e494-39ac7d56a7a1"
      },
      "execution_count": 3,
      "outputs": [
        {
          "output_type": "execute_result",
          "data": {
            "text/plain": [
              "⎧                                                                             \n",
              "⎪              ℯ⋅ⅈ⋅π                     √6⋅ⅈ⋅π                      √2       \n",
              "⎨x: - ─────────────────────── - ─────────────────────── - ────────────────────\n",
              "⎪           2  2                      2  2                      2  2          \n",
              "⎩     -2 + π ⋅ℯ  - 2⋅√2⋅ℯ⋅ⅈ⋅π   -2 + π ⋅ℯ  - 2⋅√2⋅ℯ⋅ⅈ⋅π   -2 + π ⋅ℯ  - 2⋅√2⋅ℯ⋅\n",
              "\n",
              "                    2                                      ⎫\n",
              "              √3⋅ℯ⋅π                    √6           ℯ     ⎪\n",
              "─── + ───────────────────────, y: - ────────── + ──────────⎬\n",
              "            2  2                    ℯ⋅π - √2⋅ⅈ   ℯ⋅π - √2⋅ⅈ⎪\n",
              "ⅈ⋅π   -2 + π ⋅ℯ  - 2⋅√2⋅ℯ⋅ⅈ⋅π                              ⎭"
            ],
            "text/latex": "$\\displaystyle \\left\\{ x : - \\frac{e i \\pi}{-2 + \\pi^{2} e^{2} - 2 \\sqrt{2} e i \\pi} - \\frac{\\sqrt{6} i \\pi}{-2 + \\pi^{2} e^{2} - 2 \\sqrt{2} e i \\pi} - \\frac{\\sqrt{2}}{-2 + \\pi^{2} e^{2} - 2 \\sqrt{2} e i \\pi} + \\frac{\\sqrt{3} e \\pi^{2}}{-2 + \\pi^{2} e^{2} - 2 \\sqrt{2} e i \\pi}, \\  y : - \\frac{\\sqrt{6}}{e \\pi - \\sqrt{2} i} + \\frac{e}{e \\pi - \\sqrt{2} i}\\right\\}$"
          },
          "metadata": {},
          "execution_count": 3
        }
      ]
    }
  ]
}